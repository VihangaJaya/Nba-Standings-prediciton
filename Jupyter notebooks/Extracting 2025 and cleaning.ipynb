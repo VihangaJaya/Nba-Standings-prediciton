{
 "cells": [
  {
   "cell_type": "code",
   "execution_count": 1,
   "metadata": {},
   "outputs": [],
   "source": [
    "import requests\n",
    "from bs4 import BeautifulSoup\n",
    "import pandas as pd\n",
    "import numpy as np\n",
    "\n",
    "\n",
    "url = \"https://www.basketball-reference.com/leagues/NBA_2025.html\"\n"
   ]
  },
  {
   "cell_type": "code",
   "execution_count": null,
   "metadata": {},
   "outputs": [],
   "source": [
    "response = requests.get(url)\n",
    "soup = BeautifulSoup(response.text, \"html.parser\")\n",
    "season = 2025\n",
    "\n",
    "table = soup.find('table', {'id': 'per_game-team'})\n",
    "\n",
    "if not table:\n",
    "    print(f\"Team stats table not found for {season}\")\n",
    "    df = np.NaN\n",
    "\n",
    "headers = [th.text for th in table.find('thead').find_all('th')][1:]\n",
    "\n",
    "rows = table.find('tbody').find_all('tr')\n",
    "data = []\n",
    "for row in rows:\n",
    "    if row.get('class') and 'thead' in row.get('class'):\n",
    "        continue\n",
    "    data.append([td.text for td in row.find_all('td')])\n",
    "\n",
    "df = pd.DataFrame(data,columns = headers)\n",
    "df['Season'] = f\"{season-1}/{season}\"\n",
    "\n",
    "\n",
    "data_season_2025 = df\n",
    "data_season_2025.to_csv('nba_team_stats_2025.csv', index=False)\n",
    "\n"
   ]
  },
  {
   "cell_type": "markdown",
   "metadata": {},
   "source": [
    "## Getting Conferences and team wins"
   ]
  },
  {
   "cell_type": "code",
   "execution_count": null,
   "metadata": {},
   "outputs": [],
   "source": [
    "\n",
    "season = 2025\n",
    "\n",
    "url = f\"https://www.basketball-reference.com/leagues/NBA_{season}_standings.html\"\n",
    "print(f\"Scraping Conference Standings for {season} season...\")\n",
    "\n",
    "# Fetch the webpage content\n",
    "response = requests.get(url)\n",
    "soup = BeautifulSoup(response.text, \"html.parser\")\n",
    "\n",
    "# Define conferences and an empty list to store data\n",
    "conferences = [\"E\", \"W\"]  # East and West\n",
    "standings_data = []\n",
    "\n",
    "for conference in conferences:\n",
    "    # Locate the standings table\n",
    "    table = soup.find('table', {'id': f\"confs_standings_{conference}\"})\n",
    "    if not table:\n",
    "        print(f\"Standings table for {conference} conference not found for {season}. Skipping...\")\n",
    "        continue\n",
    "\n",
    "    # Extract headers\n",
    "    headers = [th.text for th in table.find('thead').find_all('th')]  # Include rank and team name\n",
    "    headers[0] = \"Team\"  # Rename the first column to \"Team\"\n",
    "\n",
    "    # Extract rows of data\n",
    "    rows = table.find('tbody').find_all('tr')\n",
    "    data = []\n",
    "    for row in rows:\n",
    "        if row.get('class') and 'thead' in row.get('class'):\n",
    "            continue  # Skip embedded headers\n",
    "        # Extract the team name from the <th> tag\n",
    "        team_name = row.find('th').text\n",
    "        # Extract other stats from the <td> tags\n",
    "        stats = [td.text for td in row.find_all('td')]\n",
    "        # Combine team name with stats\n",
    "        team_data = [team_name] + stats\n",
    "        data.append(team_data)\n",
    "\n",
    "    df = pd.DataFrame(data, columns=headers)\n",
    "    df['Conference'] = \"East\" if conference == \"E\" else \"West\"  # Add conference column\n",
    "    standings_data.append(df)\n",
    "\n",
    "# Combine East and West standings into one DataFrame\n",
    "standings_df = pd.concat(standings_data, ignore_index=True)\n",
    "standings_df['Season'] = f\"{season-1}/{season}\"  # Add season column\n",
    "\n",
    "\n",
    "# Combine all seasons into one DataFrame\n",
    "final_standings = standings_df\n",
    "final_standings.to_csv('nba_conference_standings_2025.csv', index=False)\n",
    "print(\"Conference standings data saved to 'nba_conference_standings_2025.csv'.\")"
   ]
  },
  {
   "cell_type": "markdown",
   "metadata": {},
   "source": [
    "## Cleaning and merging data\n"
   ]
  },
  {
   "cell_type": "code",
   "execution_count": 2,
   "metadata": {},
   "outputs": [],
   "source": [
    "import re"
   ]
  },
  {
   "cell_type": "code",
   "execution_count": null,
   "metadata": {},
   "outputs": [],
   "source": [
    "team_stats_2025 = pd.read_csv('nba_team_stats_2025.csv')\n",
    "conference_standings_2025 = pd.read_csv('nba_conference_standings_2025.csv')\n",
    "\n",
    "# Clean the 'Team' column in the standings DataFrame\n",
    "# Remove anything inside parentheses and trailing whitespace\n",
    "conference_standings_2025['Team'] = conference_standings_2025['Team'].apply(\n",
    "    lambda x: re.sub(r'\\s*\\(.*?\\)', '', x).strip()\n",
    ")"
   ]
  },
  {
   "cell_type": "code",
   "execution_count": null,
   "metadata": {},
   "outputs": [],
   "source": [
    "standings_subset = conference_standings_2025[['Team', 'Season', 'W', 'L', 'W/L%','PS/G','PA/G', 'Conference']]\n",
    "\n",
    "# Merge the DataFrames on 'Team' and 'Season'\n",
    "merged_data_2025 = pd.merge(team_stats_2025, standings_subset, on=['Team', 'Season'], how='left')\n",
    "\n",
    "# Save the combined DataFrame to a new CSV file\n",
    "merged_data_2025.to_csv('nba_combined_team_stats_2025.csv', index=False)\n",
    "print(\"Data successfully combined and saved to 'nba_combined_team_stats_2025.csv'.\")\n",
    "\n",
    "# Display a preview of the merged data\n",
    "print(merged_data_2025.head())\n"
   ]
  },
  {
   "cell_type": "markdown",
   "metadata": {},
   "source": [
    "## Feature engineering\n"
   ]
  },
  {
   "cell_type": "code",
   "execution_count": null,
   "metadata": {},
   "outputs": [],
   "source": [
    "nba_stats_2025 = pd.read_csv(\"merged_nba_stats_2025.csv\")\n",
    "\n",
    "columns_to_drop = [col for col in nba_stats_2025.columns if \"Unnamed\" in col or nba_stats_2025[col].isnull().mean() > 0.5]\n",
    "nba_cleaned = nba_stats_2025.drop(columns=columns_to_drop)"
   ]
  },
  {
   "cell_type": "code",
   "execution_count": null,
   "metadata": {},
   "outputs": [],
   "source": [
    "Features_2025 = [\"Team\",\"W/L%\", \"PW\", \"SRS\", \"NRtg\", \"ORtg\", \"TS%\", \"DRtg\", \"PA/G\", \"eFG%\", \"3P%\",\"FG%\"]\n",
    "\n",
    "# Filter the dataset for the recommended features\n",
    "filtered_data_2025 = nba_stats_2025[Features_2025]"
   ]
  },
  {
   "cell_type": "code",
   "execution_count": null,
   "metadata": {},
   "outputs": [],
   "source": [
    "filtered_data_2025.to_csv(\"Featured_data_2025.csv\")"
   ]
  }
 ],
 "metadata": {
  "kernelspec": {
   "display_name": "base",
   "language": "python",
   "name": "python3"
  },
  "language_info": {
   "codemirror_mode": {
    "name": "ipython",
    "version": 3
   },
   "file_extension": ".py",
   "mimetype": "text/x-python",
   "name": "python",
   "nbconvert_exporter": "python",
   "pygments_lexer": "ipython3",
   "version": "3.11.5"
  }
 },
 "nbformat": 4,
 "nbformat_minor": 2
}
