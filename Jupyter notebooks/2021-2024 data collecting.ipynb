{
 "cells": [
  {
   "cell_type": "code",
   "execution_count": 1,
   "metadata": {},
   "outputs": [
    {
     "name": "stdout",
     "output_type": "stream",
     "text": [
      "Requirement already satisfied: requests in c:\\users\\vihangaj\\anaconda3\\lib\\site-packages (2.31.0)\n",
      "Requirement already satisfied: beautifulsoup4 in c:\\users\\vihangaj\\anaconda3\\lib\\site-packages (4.12.2)\n",
      "Requirement already satisfied: pandas in c:\\users\\vihangaj\\anaconda3\\lib\\site-packages (2.0.3)\n",
      "Requirement already satisfied: charset-normalizer<4,>=2 in c:\\users\\vihangaj\\anaconda3\\lib\\site-packages (from requests) (2.0.4)\n",
      "Requirement already satisfied: idna<4,>=2.5 in c:\\users\\vihangaj\\anaconda3\\lib\\site-packages (from requests) (3.4)\n",
      "Requirement already satisfied: urllib3<3,>=1.21.1 in c:\\users\\vihangaj\\anaconda3\\lib\\site-packages (from requests) (1.26.16)\n",
      "Requirement already satisfied: certifi>=2017.4.17 in c:\\users\\vihangaj\\anaconda3\\lib\\site-packages (from requests) (2023.7.22)\n",
      "Requirement already satisfied: soupsieve>1.2 in c:\\users\\vihangaj\\anaconda3\\lib\\site-packages (from beautifulsoup4) (2.4)\n",
      "Requirement already satisfied: python-dateutil>=2.8.2 in c:\\users\\vihangaj\\anaconda3\\lib\\site-packages (from pandas) (2.8.2)\n",
      "Requirement already satisfied: pytz>=2020.1 in c:\\users\\vihangaj\\anaconda3\\lib\\site-packages (from pandas) (2023.3.post1)\n",
      "Requirement already satisfied: tzdata>=2022.1 in c:\\users\\vihangaj\\anaconda3\\lib\\site-packages (from pandas) (2023.3)\n",
      "Requirement already satisfied: numpy>=1.21.0 in c:\\users\\vihangaj\\anaconda3\\lib\\site-packages (from pandas) (1.24.3)\n",
      "Requirement already satisfied: six>=1.5 in c:\\users\\vihangaj\\anaconda3\\lib\\site-packages (from python-dateutil>=2.8.2->pandas) (1.16.0)\n"
     ]
    }
   ],
   "source": [
    "!pip install requests beautifulsoup4 pandas\n"
   ]
  },
  {
   "cell_type": "code",
   "execution_count": 2,
   "metadata": {},
   "outputs": [],
   "source": [
    "import requests\n",
    "from bs4 import BeautifulSoup\n",
    "import pandas as pd\n",
    "import numpy as np\n"
   ]
  },
  {
   "cell_type": "code",
   "execution_count": 3,
   "metadata": {},
   "outputs": [],
   "source": [
    "seasons = [2021,2022,2023,2024]"
   ]
  },
  {
   "cell_type": "code",
   "execution_count": 3,
   "metadata": {},
   "outputs": [],
   "source": [
    "url = \"https://www.basketball-reference.com/leagues/NBA_{season}.html\"\n"
   ]
  },
  {
   "cell_type": "code",
   "execution_count": 4,
   "metadata": {},
   "outputs": [
    {
     "name": "stdout",
     "output_type": "stream",
     "text": [
      "Scraping data for 2021 season...\n",
      "Scraping data for 2022 season...\n",
      "Scraping data for 2023 season...\n",
      "Scraping data for 2024 season...\n"
     ]
    }
   ],
   "source": [
    "Historic_data = []\n",
    "for season in seasons:\n",
    "    url = f\"https://www.basketball-reference.com/leagues/NBA_{season}.html\"\n",
    "    print(f\"Scraping data for {season} season...\")\n",
    "\n",
    "    response = requests.get(url)\n",
    "    soup = BeautifulSoup(response.text, \"html.parser\")\n",
    "\n",
    "    table = soup.find('table', {'id': 'per_game-team'})\n",
    "\n",
    "    if not table:\n",
    "        print(f\"Team stats table not found for {season}\")\n",
    "        df = np.NaN\n",
    "    \n",
    "    headers = [th.text for th in table.find('thead').find_all('th')][1:]\n",
    "\n",
    "    rows = table.find('tbody').find_all('tr')\n",
    "    data = []\n",
    "    for row in rows:\n",
    "        if row.get('class') and 'thead' in row.get('class'):\n",
    "            continue\n",
    "        data.append([td.text for td in row.find_all('td')])\n",
    "\n",
    "    df = pd.DataFrame(data,columns = headers)\n",
    "    df['Season'] = f\"{season-1}/{season}\"\n",
    "\n",
    "    Historic_data.append(df)\n",
    "\n",
    "    final_historic_data = pd.concat(Historic_data, ignore_index=True)\n",
    "\n",
    "    \n",
    "\n",
    "\n",
    "\n"
   ]
  },
  {
   "cell_type": "code",
   "execution_count": 4,
   "metadata": {},
   "outputs": [
    {
     "name": "stdout",
     "output_type": "stream",
     "text": [
      "                      Team   G     MP    FG   FGA    FG%    3P   3PA    3P%  \\\n",
      "0         Milwaukee Bucks*  72  240.7  44.7  91.8  0.487  14.4  37.1  0.389   \n",
      "1           Brooklyn Nets*  72  241.7  43.1  87.3  0.494  14.2  36.1  0.392   \n",
      "2      Washington Wizards*  72  241.7  43.2  90.9  0.475  10.2  29.0  0.351   \n",
      "3               Utah Jazz*  72  241.0  41.3  88.1  0.468  16.7  43.0  0.389   \n",
      "4  Portland Trail Blazers*  72  240.3  41.3  91.1  0.453  15.7  40.8  0.385   \n",
      "\n",
      "     2P  ...   ORB   DRB   TRB   AST  STL  BLK   TOV    PF    PTS     Season  \n",
      "0  30.3  ...  10.3  37.8  48.1  25.5  8.1  4.6  13.8  17.3  120.1  2020/2021  \n",
      "1  29.0  ...   8.9  35.5  44.4  26.8  6.7  5.3  13.5  19.0  118.6  2020/2021  \n",
      "2  33.0  ...   9.7  35.5  45.2  25.5  7.3  4.1  14.4  21.6  116.6  2020/2021  \n",
      "3  24.5  ...  10.6  37.6  48.3  23.7  6.6  5.2  14.2  18.5  116.4  2020/2021  \n",
      "4  25.6  ...  10.6  33.9  44.5  21.3  6.9  5.0  11.1  18.9  116.1  2020/2021  \n",
      "\n",
      "[5 rows x 25 columns]\n"
     ]
    }
   ],
   "source": [
    "df = pd.read_csv('nba_team_stats_2020_to_2024.csv')\n",
    "print(df.head())"
   ]
  },
  {
   "cell_type": "markdown",
   "metadata": {},
   "source": [
    "## Collecting total wins abd conferences\n",
    "\n"
   ]
  },
  {
   "cell_type": "code",
   "execution_count": 5,
   "metadata": {},
   "outputs": [
    {
     "name": "stdout",
     "output_type": "stream",
     "text": [
      "Scraping Conference Standings for 2021 season...\n",
      "Scraping Conference Standings for 2022 season...\n",
      "Scraping Conference Standings for 2023 season...\n",
      "Scraping Conference Standings for 2024 season...\n"
     ]
    }
   ],
   "source": [
    "conference_standings = []\n",
    "\n",
    "for season in seasons:\n",
    "    url = f\"https://www.basketball-reference.com/leagues/NBA_{season}_standings.html\"\n",
    "    print(f\"Scraping Conference Standings for {season} season...\")\n",
    "\n",
    "    # Fetch the webpage content\n",
    "    response = requests.get(url)\n",
    "    soup = BeautifulSoup(response.text, \"html.parser\")\n",
    "\n",
    "    # Define conferences and an empty list to store data\n",
    "    conferences = [\"E\", \"W\"]  # East and West\n",
    "    standings_data = []\n",
    "\n",
    "    for conference in conferences:\n",
    "        # Locate the standings table\n",
    "        table = soup.find('table', {'id': f\"confs_standings_{conference}\"})\n",
    "        if not table:\n",
    "            print(f\"Standings table for {conference} conference not found for {season}. Skipping...\")\n",
    "            continue\n",
    "\n",
    "        # Extract headers\n",
    "        headers = [th.text for th in table.find('thead').find_all('th')][1:]  # Skip rank column\n",
    "\n",
    "        # Extract rows of data\n",
    "        rows = table.find('tbody').find_all('tr')\n",
    "        data = []\n",
    "        for row in rows:\n",
    "            if row.get('class') and 'thead' in row.get('class'):\n",
    "                continue\n",
    "            team_data = [td.text for td in row.find_all('td')]\n",
    "            data.append(team_data)\n",
    "\n",
    "        # Create a DataFrame for the conference\n",
    "        df = pd.DataFrame(data, columns=headers)\n",
    "        df['Conference'] = \"East\" if conference == \"E\" else \"West\"  # Add conference column\n",
    "        standings_data.append(df)\n",
    "\n",
    "    # Combine East and West standings into one DataFrame\n",
    "    standings_df = pd.concat(standings_data, ignore_index=True)\n",
    "    standings_df['Season'] = f\"{season-1}/{season}\"  # Add season column\n",
    "\n",
    "\n"
   ]
  },
  {
   "cell_type": "code",
   "execution_count": 7,
   "metadata": {},
   "outputs": [
    {
     "name": "stdout",
     "output_type": "stream",
     "text": [
      "Scraping Conference Standings for 2021 season...\n",
      "Scraping Conference Standings for 2022 season...\n",
      "Scraping Conference Standings for 2023 season...\n",
      "Scraping Conference Standings for 2024 season...\n",
      "Conference standings data saved to 'nba_conference_standings_2021_to_2024.csv'.\n"
     ]
    }
   ],
   "source": [
    "conference_standings = []\n",
    "\n",
    "for season in seasons:\n",
    "    url = f\"https://www.basketball-reference.com/leagues/NBA_{season}_standings.html\"\n",
    "    print(f\"Scraping Conference Standings for {season} season...\")\n",
    "\n",
    "    # Fetch the webpage content\n",
    "    response = requests.get(url)\n",
    "    soup = BeautifulSoup(response.text, \"html.parser\")\n",
    "\n",
    "    # Define conferences and an empty list to store data\n",
    "    conferences = [\"E\", \"W\"]  # East and West\n",
    "    standings_data = []\n",
    "\n",
    "    for conference in conferences:\n",
    "        # Locate the standings table\n",
    "        table = soup.find('table', {'id': f\"confs_standings_{conference}\"})\n",
    "        if not table:\n",
    "            print(f\"Standings table for {conference} conference not found for {season}. Skipping...\")\n",
    "            continue\n",
    "\n",
    "        # Extract headers\n",
    "        headers = [th.text for th in table.find('thead').find_all('th')]  # Include rank and team name\n",
    "        headers[0] = \"Team\"  # Rename the first column to \"Team\"\n",
    "\n",
    "        # Extract rows of data\n",
    "        rows = table.find('tbody').find_all('tr')\n",
    "        data = []\n",
    "        for row in rows:\n",
    "            if row.get('class') and 'thead' in row.get('class'):\n",
    "                continue  # Skip embedded headers\n",
    "            # Extract the team name from the <th> tag\n",
    "            team_name = row.find('th').text\n",
    "            # Extract other stats from the <td> tags\n",
    "            stats = [td.text for td in row.find_all('td')]\n",
    "            # Combine team name with stats\n",
    "            team_data = [team_name] + stats\n",
    "            data.append(team_data)\n",
    "\n",
    "        # Create a DataFrame for the conference\n",
    "        df = pd.DataFrame(data, columns=headers)\n",
    "        df['Conference'] = \"East\" if conference == \"E\" else \"West\"  # Add conference column\n",
    "        standings_data.append(df)\n",
    "\n",
    "    # Combine East and West standings into one DataFrame\n",
    "    standings_df = pd.concat(standings_data, ignore_index=True)\n",
    "    standings_df['Season'] = f\"{season-1}/{season}\"  # Add season column\n",
    "    conference_standings.append(standings_df)\n",
    "\n",
    "# Combine all seasons into one DataFrame\n",
    "final_standings = pd.concat(conference_standings, ignore_index=True)\n",
    "final_standings.to_csv('nba_conference_standings_2021_to_2024.csv', index=False)\n",
    "print(\"Conference standings data saved to 'nba_conference_standings_2021_to_2024.csv'.\")\n"
   ]
  },
  {
   "cell_type": "markdown",
   "metadata": {},
   "source": [
    "## Combining the two datasets"
   ]
  },
  {
   "cell_type": "code",
   "execution_count": 8,
   "metadata": {},
   "outputs": [],
   "source": [
    "team_stats = pd.read_csv('nba_team_stats_2020_to_2024.csv')\n",
    "conference_standings = pd.read_csv('nba_conference_standings_2021_to_2024.csv')\n"
   ]
  },
  {
   "cell_type": "code",
   "execution_count": 12,
   "metadata": {},
   "outputs": [
    {
     "data": {
      "text/html": [
       "<div>\n",
       "<style scoped>\n",
       "    .dataframe tbody tr th:only-of-type {\n",
       "        vertical-align: middle;\n",
       "    }\n",
       "\n",
       "    .dataframe tbody tr th {\n",
       "        vertical-align: top;\n",
       "    }\n",
       "\n",
       "    .dataframe thead th {\n",
       "        text-align: right;\n",
       "    }\n",
       "</style>\n",
       "<table border=\"1\" class=\"dataframe\">\n",
       "  <thead>\n",
       "    <tr style=\"text-align: right;\">\n",
       "      <th></th>\n",
       "      <th>Team</th>\n",
       "      <th>Season</th>\n",
       "      <th>W</th>\n",
       "      <th>L</th>\n",
       "      <th>W/L%</th>\n",
       "      <th>PS/G</th>\n",
       "      <th>PA/G</th>\n",
       "      <th>Conference</th>\n",
       "    </tr>\n",
       "  </thead>\n",
       "  <tbody>\n",
       "    <tr>\n",
       "      <th>0</th>\n",
       "      <td>Philadelphia 76ers*</td>\n",
       "      <td>2020/2021</td>\n",
       "      <td>49</td>\n",
       "      <td>23</td>\n",
       "      <td>0.681</td>\n",
       "      <td>113.6</td>\n",
       "      <td>108.1</td>\n",
       "      <td>East</td>\n",
       "    </tr>\n",
       "    <tr>\n",
       "      <th>1</th>\n",
       "      <td>Brooklyn Nets*</td>\n",
       "      <td>2020/2021</td>\n",
       "      <td>48</td>\n",
       "      <td>24</td>\n",
       "      <td>0.667</td>\n",
       "      <td>118.6</td>\n",
       "      <td>114.1</td>\n",
       "      <td>East</td>\n",
       "    </tr>\n",
       "    <tr>\n",
       "      <th>2</th>\n",
       "      <td>Milwaukee Bucks*</td>\n",
       "      <td>2020/2021</td>\n",
       "      <td>46</td>\n",
       "      <td>26</td>\n",
       "      <td>0.639</td>\n",
       "      <td>120.1</td>\n",
       "      <td>114.2</td>\n",
       "      <td>East</td>\n",
       "    </tr>\n",
       "    <tr>\n",
       "      <th>3</th>\n",
       "      <td>New York Knicks*</td>\n",
       "      <td>2020/2021</td>\n",
       "      <td>41</td>\n",
       "      <td>31</td>\n",
       "      <td>0.569</td>\n",
       "      <td>107.0</td>\n",
       "      <td>104.7</td>\n",
       "      <td>East</td>\n",
       "    </tr>\n",
       "    <tr>\n",
       "      <th>4</th>\n",
       "      <td>Atlanta Hawks*</td>\n",
       "      <td>2020/2021</td>\n",
       "      <td>41</td>\n",
       "      <td>31</td>\n",
       "      <td>0.569</td>\n",
       "      <td>113.7</td>\n",
       "      <td>111.4</td>\n",
       "      <td>East</td>\n",
       "    </tr>\n",
       "    <tr>\n",
       "      <th>...</th>\n",
       "      <td>...</td>\n",
       "      <td>...</td>\n",
       "      <td>...</td>\n",
       "      <td>...</td>\n",
       "      <td>...</td>\n",
       "      <td>...</td>\n",
       "      <td>...</td>\n",
       "      <td>...</td>\n",
       "    </tr>\n",
       "    <tr>\n",
       "      <th>115</th>\n",
       "      <td>Houston Rockets</td>\n",
       "      <td>2023/2024</td>\n",
       "      <td>41</td>\n",
       "      <td>41</td>\n",
       "      <td>0.500</td>\n",
       "      <td>114.3</td>\n",
       "      <td>113.2</td>\n",
       "      <td>West</td>\n",
       "    </tr>\n",
       "    <tr>\n",
       "      <th>116</th>\n",
       "      <td>Utah Jazz</td>\n",
       "      <td>2023/2024</td>\n",
       "      <td>31</td>\n",
       "      <td>51</td>\n",
       "      <td>0.378</td>\n",
       "      <td>115.7</td>\n",
       "      <td>120.5</td>\n",
       "      <td>West</td>\n",
       "    </tr>\n",
       "    <tr>\n",
       "      <th>117</th>\n",
       "      <td>Memphis Grizzlies</td>\n",
       "      <td>2023/2024</td>\n",
       "      <td>27</td>\n",
       "      <td>55</td>\n",
       "      <td>0.329</td>\n",
       "      <td>105.8</td>\n",
       "      <td>112.8</td>\n",
       "      <td>West</td>\n",
       "    </tr>\n",
       "    <tr>\n",
       "      <th>118</th>\n",
       "      <td>San Antonio Spurs</td>\n",
       "      <td>2023/2024</td>\n",
       "      <td>22</td>\n",
       "      <td>60</td>\n",
       "      <td>0.268</td>\n",
       "      <td>112.1</td>\n",
       "      <td>118.6</td>\n",
       "      <td>West</td>\n",
       "    </tr>\n",
       "    <tr>\n",
       "      <th>119</th>\n",
       "      <td>Portland Trail Blazers</td>\n",
       "      <td>2023/2024</td>\n",
       "      <td>21</td>\n",
       "      <td>61</td>\n",
       "      <td>0.256</td>\n",
       "      <td>106.4</td>\n",
       "      <td>115.4</td>\n",
       "      <td>West</td>\n",
       "    </tr>\n",
       "  </tbody>\n",
       "</table>\n",
       "<p>120 rows × 8 columns</p>\n",
       "</div>"
      ],
      "text/plain": [
       "                       Team     Season   W   L   W/L%   PS/G   PA/G Conference\n",
       "0       Philadelphia 76ers*  2020/2021  49  23  0.681  113.6  108.1       East\n",
       "1            Brooklyn Nets*  2020/2021  48  24  0.667  118.6  114.1       East\n",
       "2          Milwaukee Bucks*  2020/2021  46  26  0.639  120.1  114.2       East\n",
       "3          New York Knicks*  2020/2021  41  31  0.569  107.0  104.7       East\n",
       "4            Atlanta Hawks*  2020/2021  41  31  0.569  113.7  111.4       East\n",
       "..                      ...        ...  ..  ..    ...    ...    ...        ...\n",
       "115         Houston Rockets  2023/2024  41  41  0.500  114.3  113.2       West\n",
       "116               Utah Jazz  2023/2024  31  51  0.378  115.7  120.5       West\n",
       "117       Memphis Grizzlies  2023/2024  27  55  0.329  105.8  112.8       West\n",
       "118       San Antonio Spurs  2023/2024  22  60  0.268  112.1  118.6       West\n",
       "119  Portland Trail Blazers  2023/2024  21  61  0.256  106.4  115.4       West\n",
       "\n",
       "[120 rows x 8 columns]"
      ]
     },
     "execution_count": 12,
     "metadata": {},
     "output_type": "execute_result"
    }
   ],
   "source": [
    "standings_subset = conference_standings[['Team', 'Season', 'W', 'L', 'W/L%','PS/G','PA/G', 'Conference']]\n",
    "standings_subset"
   ]
  },
  {
   "cell_type": "code",
   "execution_count": 13,
   "metadata": {},
   "outputs": [],
   "source": [
    "merged_data = pd.merge(team_stats, standings_subset, on=['Team', 'Season'], how='left')"
   ]
  },
  {
   "cell_type": "code",
   "execution_count": 14,
   "metadata": {},
   "outputs": [
    {
     "name": "stdout",
     "output_type": "stream",
     "text": [
      "Data successfully combined and saved to 'nba_combined_team_stats_2020_to_2024.csv'.\n",
      "                      Team   G     MP    FG   FGA    FG%    3P   3PA    3P%  \\\n",
      "0         Milwaukee Bucks*  72  240.7  44.7  91.8  0.487  14.4  37.1  0.389   \n",
      "1           Brooklyn Nets*  72  241.7  43.1  87.3  0.494  14.2  36.1  0.392   \n",
      "2      Washington Wizards*  72  241.7  43.2  90.9  0.475  10.2  29.0  0.351   \n",
      "3               Utah Jazz*  72  241.0  41.3  88.1  0.468  16.7  43.0  0.389   \n",
      "4  Portland Trail Blazers*  72  240.3  41.3  91.1  0.453  15.7  40.8  0.385   \n",
      "\n",
      "     2P  ...   TOV    PF    PTS     Season   W   L   W/L%   PS/G   PA/G  \\\n",
      "0  30.3  ...  13.8  17.3  120.1  2020/2021  46  26  0.639  120.1  114.2   \n",
      "1  29.0  ...  13.5  19.0  118.6  2020/2021  48  24  0.667  118.6  114.1   \n",
      "2  33.0  ...  14.4  21.6  116.6  2020/2021  34  38  0.472  116.6  118.5   \n",
      "3  24.5  ...  14.2  18.5  116.4  2020/2021  52  20  0.722  116.4  107.2   \n",
      "4  25.6  ...  11.1  18.9  116.1  2020/2021  42  30  0.583  116.1  114.3   \n",
      "\n",
      "   Conference  \n",
      "0        East  \n",
      "1        East  \n",
      "2        East  \n",
      "3        West  \n",
      "4        West  \n",
      "\n",
      "[5 rows x 31 columns]\n"
     ]
    }
   ],
   "source": [
    "merged_data.to_csv('nba_combined_team_stats_2020_to_2024.csv', index=False)\n",
    "print(\"Data successfully combined and saved to 'nba_combined_team_stats_2020_to_2024.csv'.\")\n",
    "\n",
    "print(merged_data.head())"
   ]
  },
  {
   "cell_type": "code",
   "execution_count": null,
   "metadata": {},
   "outputs": [],
   "source": []
  }
 ],
 "metadata": {
  "kernelspec": {
   "display_name": "base",
   "language": "python",
   "name": "python3"
  },
  "language_info": {
   "codemirror_mode": {
    "name": "ipython",
    "version": 3
   },
   "file_extension": ".py",
   "mimetype": "text/x-python",
   "name": "python",
   "nbconvert_exporter": "python",
   "pygments_lexer": "ipython3",
   "version": "3.11.5"
  }
 },
 "nbformat": 4,
 "nbformat_minor": 2
}
