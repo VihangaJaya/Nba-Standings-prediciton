{
 "cells": [
  {
   "cell_type": "code",
   "execution_count": 1,
   "metadata": {},
   "outputs": [],
   "source": [
    "import requests\n",
    "from bs4 import BeautifulSoup\n",
    "import pandas as pd\n",
    "import numpy as np"
   ]
  },
  {
   "cell_type": "code",
   "execution_count": 2,
   "metadata": {},
   "outputs": [],
   "source": [
    "url = \"https://www.basketball-reference.com/leagues/NBA_2025.html\"\n"
   ]
  },
  {
   "cell_type": "code",
   "execution_count": 3,
   "metadata": {},
   "outputs": [],
   "source": [
    "response = requests.get(url)\n",
    "soup = BeautifulSoup(response.text, \"html.parser\")\n",
    "season = 2025\n",
    "\n",
    "table = soup.find('table', {'id': 'per_game-team'})\n",
    "\n",
    "if not table:\n",
    "    print(f\"Team stats table not found for {season}\")\n",
    "    df = np.NaN\n",
    "\n",
    "headers = [th.text for th in table.find('thead').find_all('th')][1:]\n",
    "\n",
    "rows = table.find('tbody').find_all('tr')\n",
    "data = []\n",
    "for row in rows:\n",
    "    if row.get('class') and 'thead' in row.get('class'):\n",
    "        continue\n",
    "    data.append([td.text for td in row.find_all('td')])\n",
    "\n",
    "df = pd.DataFrame(data,columns = headers)\n",
    "df['Season'] = f\"{season-1}/{season}\"\n",
    "\n",
    "\n",
    "data_season_2025 = df\n",
    "data_season_2025.to_csv('nba_team_stats_2025.csv', index=False)\n",
    "\n"
   ]
  },
  {
   "cell_type": "markdown",
   "metadata": {},
   "source": [
    "## Getting Conferences and team wins"
   ]
  },
  {
   "cell_type": "code",
   "execution_count": 4,
   "metadata": {},
   "outputs": [
    {
     "name": "stdout",
     "output_type": "stream",
     "text": [
      "Scraping Conference Standings for 2025 season...\n",
      "Conference standings data saved to 'nba_conference_standings_2025.csv'.\n"
     ]
    }
   ],
   "source": [
    "\n",
    "season = 2025\n",
    "\n",
    "url = f\"https://www.basketball-reference.com/leagues/NBA_{season}_standings.html\"\n",
    "print(f\"Scraping Conference Standings for {season} season...\")\n",
    "\n",
    "# Fetch the webpage content\n",
    "response = requests.get(url)\n",
    "soup = BeautifulSoup(response.text, \"html.parser\")\n",
    "\n",
    "# Define conferences and an empty list to store data\n",
    "conferences = [\"E\", \"W\"]  # East and West\n",
    "standings_data = []\n",
    "\n",
    "for conference in conferences:\n",
    "    # Locate the standings table\n",
    "    table = soup.find('table', {'id': f\"confs_standings_{conference}\"})\n",
    "    if not table:\n",
    "        print(f\"Standings table for {conference} conference not found for {season}. Skipping...\")\n",
    "        continue\n",
    "\n",
    "    # Extract headers\n",
    "    headers = [th.text for th in table.find('thead').find_all('th')]  # Include rank and team name\n",
    "    headers[0] = \"Team\"  # Rename the first column to \"Team\"\n",
    "\n",
    "    # Extract rows of data\n",
    "    rows = table.find('tbody').find_all('tr')\n",
    "    data = []\n",
    "    for row in rows:\n",
    "        if row.get('class') and 'thead' in row.get('class'):\n",
    "            continue  # Skip embedded headers\n",
    "        # Extract the team name from the <th> tag\n",
    "        team_name = row.find('th').text\n",
    "        # Extract other stats from the <td> tags\n",
    "        stats = [td.text for td in row.find_all('td')]\n",
    "        # Combine team name with stats\n",
    "        team_data = [team_name] + stats\n",
    "        data.append(team_data)\n",
    "\n",
    "    df = pd.DataFrame(data, columns=headers)\n",
    "    df['Conference'] = \"East\" if conference == \"E\" else \"West\"  # Add conference column\n",
    "    standings_data.append(df)\n",
    "\n",
    "# Combine East and West standings into one DataFrame\n",
    "standings_df = pd.concat(standings_data, ignore_index=True)\n",
    "standings_df['Season'] = f\"{season-1}/{season}\"  # Add season column\n",
    "\n",
    "\n",
    "# Combine all seasons into one DataFrame\n",
    "final_standings = standings_df\n",
    "final_standings.to_csv('nba_conference_standings_2025.csv', index=False)\n",
    "print(\"Conference standings data saved to 'nba_conference_standings_2025.csv'.\")"
   ]
  },
  {
   "cell_type": "markdown",
   "metadata": {},
   "source": [
    "## Cleaning and merging data\n"
   ]
  },
  {
   "cell_type": "code",
   "execution_count": 5,
   "metadata": {},
   "outputs": [],
   "source": [
    "import re"
   ]
  },
  {
   "cell_type": "code",
   "execution_count": 6,
   "metadata": {},
   "outputs": [],
   "source": [
    "team_stats_2025 = pd.read_csv('nba_team_stats_2025.csv')\n",
    "conference_standings_2025 = pd.read_csv('nba_conference_standings_2025.csv')\n",
    "\n",
    "# Clean the 'Team' column in the standings DataFrame\n",
    "# Remove anything inside parentheses and trailing whitespace\n",
    "conference_standings_2025['Team'] = conference_standings_2025['Team'].apply(\n",
    "    lambda x: re.sub(r'\\s*\\(.*?\\)', '', x).strip()\n",
    ")"
   ]
  },
  {
   "cell_type": "markdown",
   "metadata": {},
   "source": [
    "Use the re.sub() function to match and remove:\n",
    "\\s*: Any whitespace before the parentheses.\n",
    "\\(.*?\\): Anything inside parentheses, including the parentheses themselves.\n",
    "strip(): Remove any leading or trailing whitespace.\n",
    "Example: \"Cleveland Cavaliers (1)\" → \"Cleveland Cavaliers\"\n",
    "\n"
   ]
  },
  {
   "cell_type": "code",
   "execution_count": 7,
   "metadata": {},
   "outputs": [
    {
     "name": "stdout",
     "output_type": "stream",
     "text": [
      "Data successfully combined and saved to 'nba_combined_team_stats_2025.csv'.\n",
      "                  Team   G     MP    FG   FGA    FG%    3P   3PA    3P%    2P  \\\n",
      "0    Memphis Grizzlies  30  240.0  45.1  92.9  0.486  13.9  37.6  0.370  31.2   \n",
      "1  Cleveland Cavaliers  30  240.0  44.7  88.7  0.504  16.1  39.6  0.406  28.6   \n",
      "2       Denver Nuggets  28  242.7  44.3  89.3  0.496  11.6  30.9  0.376  32.6   \n",
      "3       Boston Celtics  30  242.5  41.7  91.5  0.456  18.4  50.4  0.365  23.3   \n",
      "4     Dallas Mavericks  30  240.8  43.2  88.9  0.486  13.5  35.8  0.377  29.7   \n",
      "\n",
      "   ...   TOV    PF    PTS     Season   W   L   W/L%   PS/G   PA/G  Conference  \n",
      "0  ...  17.1  21.6  122.7  2024/2025  20  10  0.667  122.7  113.0        West  \n",
      "1  ...  13.2  18.3  121.8  2024/2025  26   4  0.867  121.8  110.2        East  \n",
      "2  ...  14.9  18.3  119.1  2024/2025  16  12  0.571  119.1  116.1        West  \n",
      "3  ...  12.1  16.2  118.9  2024/2025  22   8  0.733  118.9  109.8        East  \n",
      "4  ...  14.2  19.2  118.2  2024/2025  19  11  0.633  118.2  111.8        West  \n",
      "\n",
      "[5 rows x 31 columns]\n"
     ]
    }
   ],
   "source": [
    "standings_subset = conference_standings_2025[['Team', 'Season', 'W', 'L', 'W/L%','PS/G','PA/G', 'Conference']]\n",
    "\n",
    "# Merge the DataFrames on 'Team' and 'Season'\n",
    "merged_data_2025 = pd.merge(team_stats_2025, standings_subset, on=['Team', 'Season'], how='left')\n",
    "\n",
    "# Save the combined DataFrame to a new CSV file\n",
    "merged_data_2025.to_csv('nba_combined_team_stats_2025.csv', index=False)\n",
    "print(\"Data successfully combined and saved to 'nba_combined_team_stats_2025.csv'.\")\n",
    "\n",
    "# Display a preview of the merged data\n",
    "print(merged_data_2025.head())\n"
   ]
  },
  {
   "cell_type": "code",
   "execution_count": null,
   "metadata": {},
   "outputs": [],
   "source": []
  }
 ],
 "metadata": {
  "kernelspec": {
   "display_name": "base",
   "language": "python",
   "name": "python3"
  },
  "language_info": {
   "codemirror_mode": {
    "name": "ipython",
    "version": 3
   },
   "file_extension": ".py",
   "mimetype": "text/x-python",
   "name": "python",
   "nbconvert_exporter": "python",
   "pygments_lexer": "ipython3",
   "version": "3.11.5"
  }
 },
 "nbformat": 4,
 "nbformat_minor": 2
}
